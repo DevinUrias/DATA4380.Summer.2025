{
 "cells": [
  {
   "cell_type": "code",
   "execution_count": 1,
   "id": "1500cef3",
   "metadata": {},
   "outputs": [],
   "source": [
    "from kaggle.api.kaggle_api_extended import KaggleApi"
   ]
  },
  {
   "cell_type": "code",
   "execution_count": 3,
   "id": "8530dc56-f26a-4559-86d6-2dcce2d1e826",
   "metadata": {},
   "outputs": [
    {
     "name": "stdout",
     "output_type": "stream",
     "text": [
      " Basics   Datasets  'Importing Datasets.ipynb'\t README.md\n"
     ]
    }
   ],
   "source": [
    "!mkdir -p Datasets\n",
    "\n",
    "!ls"
   ]
  },
  {
   "cell_type": "code",
   "execution_count": 4,
   "id": "7c717d47",
   "metadata": {},
   "outputs": [
    {
     "name": "stdout",
     "output_type": "stream",
     "text": [
      "403 Client Error: Forbidden for url: https://www.kaggle.com/api/v1/competitions/data/download-all/diabetes-prediction-with-nn\n",
      "Dataset URL: https://www.kaggle.com/datasets/rishidamarla/heart-disease-prediction\n",
      "License(s): CC0-1.0\n",
      "403 Client Error: Forbidden for url: https://www.kaggle.com/api/v1/competitions/data/download-all/used-car-price-prediction-competition\n",
      "Dataset URL: https://www.kaggle.com/datasets/yasserh/housing-prices-dataset\n",
      "License(s): CC0-1.0\n",
      "Dataset URL: https://www.kaggle.com/datasets/simtoor/mall-customers\n",
      "License(s): unknown\n",
      "403 Client Error: Forbidden for url: https://www.kaggle.com/api/v1/competitions/data/download-all/business-research-methods-world-university-rankings\n",
      "Dataset URL: https://www.kaggle.com/datasets/m5anas/cancer-patient-data-sets\n",
      "License(s): CC0-1.0\n"
     ]
    }
   ],
   "source": [
    "\n",
    "!kaggle competitions download -c diabetes-prediction-with-nn -p Datasets/diabetes\n",
    "\n",
    "!kaggle datasets download -d rishidamarla/heart-disease-prediction -p Datasets/heart\n",
    "\n",
    "!kaggle competitions download -c used-car-price-prediction-competition -p Datasets/used_cars\n",
    "\n",
    "!kaggle datasets download -d yasserh/housing-prices-dataset -p Datasets/housing\n",
    "\n",
    "!kaggle datasets download -d simtoor/mall-customers -p Datasets/mall\n",
    "\n",
    "!kaggle competitions download -c business-research-methods-world-university-rankings -p Datasets/universities\n",
    "\n",
    "!kaggle datasets download -d m5anas/cancer-patient-data-sets -p Datasets/cancer\n"
   ]
  },
  {
   "cell_type": "markdown",
   "id": "b344a773-f703-4492-bd14-763581daf6f4",
   "metadata": {},
   "source": [
    "I just went and unzipped them all when I downloaded the rest of the datasets we were linked, but could have done so by importing zipfile and using unzip. From here on is terminal prompts.\n",
    "\n",
    "DUrias@Miniton:~$ source ~/.venvs/kaggle-env/bin/activate\n",
    "(kaggle-env) DUrias@Miniton:~$ cd DATA4380\n",
    "(kaggle-env) DUrias@Miniton:~/DATA4380$ cd DATA4380.Summer.2025\n",
    "(kaggle-env) DUrias@Miniton:~/DATA4380/DATA4380.Summer.2025$ ls\n",
    " Basics   Datasets  'Importing Datasets.ipynb'   README.md\n",
    "(kaggle-env) DUrias@Miniton:~/DATA4380/DATA4380.Summer.2025$ cd Datasets\n",
    "(kaggle-env) DUrias@Miniton:~/DATA4380/DATA4380.Summer.2025/Datasets$ ls\n",
    "Heart_Disease_Prediction.csv\n",
    " Housing.csv\n",
    "'Mall Customers.xlsx'\n",
    " Mall_Customers.csv\n",
    " Titanic-Dataset.csv\n",
    " Untitled.ipynb\n",
    " breast-cancer-wisconsin-data_data.csv\n",
    " breast-cancer.zip\n",
    "'cancer patient data sets.csv'\n",
    " cancer-patient-data-sets.zip\n",
    " cancer-patients-and-air-pollution-a-new-link.zip\n",
    " car_web_scraped_dataset.csv\n",
    " customer-segmentation-tutorial-in-python.zip\n",
    " diabetes-prediction-dataset.zip\n",
    " diabetes_prediction_dataset.csv\n",
    " diabetes_prediction_dataset_1000.csv\n",
    " heart-disease-prediction.zip\n",
    " housing-price-prediction.zip\n",
    " housing-prices-dataset.zip\n",
    " mall-customers.zip\n",
    " solution.src\n",
    " starbucks.csv\n",
    " starbucks.zip\n",
    " titanic-dataset.zip\n",
    " used-car-price-prediction.zip\n",
    " weather-prediction.zip\n",
    "'world all university rank and rank score.csv'\n",
    " world-all-university-ranking-factors.zip\n",
    "(kaggle-env) DUrias@Miniton:~/DATA4380/DATA4380.Summer.2025/Datasets$ mkdir Zips\n",
    "(kaggle-env) DUrias@Miniton:~/DATA4380/DATA4380.Summer.2025/Datasets$ mv *.zip Zips/\n",
    "(kaggle-env) DUrias@Miniton:~/DATA4380/DATA4380.Summer.2025/Datasets$ ls\n",
    " Heart_Disease_Prediction.csv\n",
    " Housing.csv\n",
    "'Mall Customers.xlsx'\n",
    " Mall_Customers.csv\n",
    " Titanic-Dataset.csv\n",
    " Untitled.ipynb\n",
    " Zips\n",
    " breast-cancer-wisconsin-data_data.csv\n",
    "'cancer patient data sets.csv'\n",
    " car_web_scraped_dataset.csv\n",
    " diabetes_prediction_dataset.csv\n",
    " diabetes_prediction_dataset_1000.csv\n",
    " solution.src\n",
    " starbucks.csv\n",
    "'world all university rank and rank score.csv'\n",
    "\n"
   ]
  },
  {
   "cell_type": "markdown",
   "id": "17315e57-2279-4e87-86ac-5d99d1b5488f",
   "metadata": {},
   "source": [
    "2)\n",
    "(kaggle-env) DUrias@Miniton:~/DATA4380/DATA4380.Summer.2025/Datasets$ head -n 1 diabetes_prediction_dataset.csv > diabetes_part1.csv\n",
    "(kaggle-env) DUrias@Miniton:~/DATA4380/DATA4380.Summer.2025/Datasets$ head -n 1 diabetes_prediction_dataset.csv > diabetes_part2.csv\n",
    "(kaggle-env) DUrias@Miniton:~/DATA4380/DATA4380.Summer.2025/Datasets$ head -n 1 diabetes_prediction_dataset.csv > diabetes_part3.csv\n",
    "(kaggle-env) DUrias@Miniton:~/DATA4380/DATA4380.Summer.2025/Datasets$ wc -l diabetes_prediction_dataset.csv\n",
    "100001 diabetes_prediction_dataset.csv\n",
    "(kaggle-env) DUrias@Miniton:~/DATA4380/DATA4380.Summer.2025/Datasets$ tail -n +2 diabetes_prediction_dataset.csv | head -n 33333 >> part1.csv\n",
    "(kaggle-env) DUrias@Miniton:~/DATA4380/DATA4380.Summer.2025/Datasets$ tail -n +33335 diabetes_prediction_dataset.csv | head -n 33333 >> part2.csv\n",
    "(kaggle-env) DUrias@Miniton:~/DATA4380/DATA4380.Summer.2025/Datasets$ tail -n +66668 diabetes_prediction_dataset.csv | head -n 33333 >> part3.csv\n",
    "(kaggle-env) DUrias@Miniton:~/DATA4380/DATA4380.Summer.2025/Datasets$\n"
   ]
  },
  {
   "cell_type": "markdown",
   "id": "35113b1d-8e67-4e1b-be38-d1c2f45387c2",
   "metadata": {},
   "source": [
    "3)\n",
    "(kaggle-env) DUrias@Miniton:~/DATA4380/DATA4380.Summer.2025/Datasets$ head -n 1 Heart_Disease_Prediction.csv > disease_present.csv\n",
    "(kaggle-env) DUrias@Miniton:~/DATA4380/DATA4380.Summer.2025/Datasets$ head -n 1 Heart_Disease_Prediction.csv > disease_absence.csv\n",
    "(kaggle-env) DUrias@Miniton:~/DATA4380/DATA4380.Summer.2025/Datasets$ grep \"Presence\" Heart_Disease_Prediction.csv >> disease_present.csv\n",
    "(kaggle-env) DUrias@Miniton:~/DATA4380/DATA4380.Summer.2025/Datasets$ grep \"Absence\" Heart_Disease_Prediction.csv >> disease_absence.csv\n"
   ]
  },
  {
   "cell_type": "markdown",
   "id": "3952911e-b8f7-403a-90cd-24491b990251",
   "metadata": {},
   "source": [
    "4)\n",
    "(kaggle-env) DUrias@Miniton:~/DATA4380/DATA4380.Summer.2025/Datasets$ grep \"No accidents reported\" car_web_scraped_dataset.csv | wc -l\n",
    "2223\n",
    "(kaggle-env) DUrias@Miniton:~/DATA4380/DATA4380.Summer.2025/Datasets$ wc -l car_web_scraped_dataset.csv\n",
    "2841 car_web_scraped_dataset.csv\n",
    "\n",
    "So 2223/2841 have no accidents reported\n"
   ]
  },
  {
   "cell_type": "markdown",
   "id": "a8d8bce8-25ce-4519-b991-38a2e9c0ca44",
   "metadata": {},
   "source": [
    "5)\n",
    "(kaggle-env) DUrias@Miniton:~/DATA4380/DATA4380.Summer.2025/Datasets$ cat Housing.csv | sed 's/yes/1/g' | sed 's/no/0/g' | sed 's/semi-furnished/2/g' | sed 's/unfurnished/0/g' | sed 's/,furnished/,1/g' > Numeric_Housing.csv\n"
   ]
  },
  {
   "cell_type": "markdown",
   "id": "0339e6e9-e127-4bb5-9883-299f9507e80d",
   "metadata": {},
   "source": [
    "6)\n",
    "\n",
    "(kaggle-env) DUrias@Miniton:~/DATA4380/DATA4380.Summer.2025/Datasets$ cut -d ',' -f2- Mall_Customers.csv > Mall_Customers_NoID.csv\n"
   ]
  },
  {
   "cell_type": "markdown",
   "id": "9a65a7b0-903c-4ead-b66f-80b63cd6a8df",
   "metadata": {},
   "source": [
    "7)\n",
    "(kaggle-env) DUrias@Miniton:~/DATA4380/DATA4380.Summer.2025/Datasets$ cut -d ',' -f5-8 'world all university rank and rank score.csv' | tail -n +2 | tr\n",
    " ',' '+' | bc > university_sums.csv\n",
    "(standard_in) 161: illegal character: \\342\n",
    "(standard_in) 161: illegal character: \\200\n",
    "(standard_in) 161: illegal character: \\223\n",
    "(standard_in) 161: syntax error\n",
    "(standard_in) 204: illegal character: \\342\n",
    "(standard_in) 204: illegal character: \\200\n",
    "(standard_in) 204: illegal character: \\223\n",
    "(standard_in) 204: syntax error\n",
    "(standard_in) 208: illegal character: \\342\n",
    "(standard_in) 208: illegal character: \\200\n",
    "(standard_in) 208: illegal character: \\223\n",
    "(standard_in) 208: syntax error\n",
    "(standard_in) 254: illegal character: \\342\n",
    "(standard_in) 254: illegal character: \\200\n",
    "(standard_in) 254: illegal character: \\223\n",
    "(standard_in) 254: syntax error\n",
    "(standard_in) 363: illegal character: \\342\n",
    "(standard_in) 363: illegal character: \\200\n",
    "(standard_in) 363: illegal character: \\223\n",
    "(standard_in) 363: syntax error\n",
    "(standard_in) 376: illegal character: \\342\n",
    "(standard_in) 376: illegal character: \\200\n",
    "(standard_in) 376: illegal character: \\223\n",
    "(standard_in) 376: syntax error\n",
    "(standard_in) 422: illegal character: \\342\n",
    "(standard_in) 422: illegal character: \\200\n",
    "(standard_in) 422: illegal character: \\223\n",
    "(standard_in) 422: syntax error\n",
    "(standard_in) 519: illegal character: \\342\n",
    "(standard_in) 519: illegal character: \\200\n",
    "(standard_in) 519: illegal character: \\223\n",
    "(standard_in) 519: syntax error\n",
    "(standard_in) 565: illegal character: \\342\n",
    "(standard_in) 565: illegal character: \\200\n",
    "(standard_in) 565: illegal character: \\223\n",
    "(standard_in) 565: syntax error\n",
    "(standard_in) 616: illegal character: \\342\n",
    "(standard_in) 616: illegal character: \\200\n",
    "(standard_in) 616: illegal character: \\223\n",
    "(standard_in) 616: syntax error\n",
    "(standard_in) 636: illegal character: \\342\n",
    "(standard_in) 636: illegal character: \\200\n",
    "(standard_in) 636: illegal character: \\223\n",
    "(standard_in) 636: syntax error\n",
    "(standard_in) 677: illegal character: \\342\n",
    "(standard_in) 677: illegal character: \\200\n",
    "(standard_in) 677: illegal character: \\223\n",
    "(standard_in) 677: syntax error\n",
    "(standard_in) 700: illegal character: \\342\n",
    "(standard_in) 700: illegal character: \\200\n",
    "(standard_in) 700: illegal character: \\223\n",
    "(standard_in) 700: syntax error\n",
    "(standard_in) 759: illegal character: \\342\n",
    "(standard_in) 759: illegal character: \\200\n",
    "(standard_in) 759: illegal character: \\223\n",
    "(standard_in) 759: syntax error\n",
    "(standard_in) 787: illegal character: \\342\n",
    "(standard_in) 787: illegal character: \\200\n",
    "(standard_in) 787: illegal character: \\223\n",
    "(standard_in) 787: syntax error\n",
    "\n",
    "(kaggle-env) DUrias@Miniton:~/DATA4380/DATA4380.Summer.2025/Datasets$ cut -d ',' -f5-8 'world all university rank and rank score.csv' \\\n",
    "| tail -n +2 \\\n",
    "| awk -F',' '{\n",
    "    sum1 += $1;\n",
    "    sum2 += $2;\n",
    "    sum3 += $3;\n",
    "    sum4 += $4;\n",
    "} END {\n",
    "    print sum1 \",\" sum2 \",\" sum3 \",\" sum4;\n",
    "}' \\\n",
    "> university_score_column_sums.csv\n"
   ]
  },
  {
   "cell_type": "markdown",
   "id": "c2286d1d-36c6-476e-bdb9-1b7050b69440",
   "metadata": {},
   "source": [
    "8)\n",
    "(kaggle-env) DUrias@Miniton:~/DATA4380/DATA4380.Summer.2025/Datasets$ head -n 1 \"cancer patient data sets.csv\" > sorted_cancer_data.csv\n",
    "(kaggle-env) DUrias@Miniton:~/DATA4380/DATA4380.Summer.2025/Datasets$ tail -n +2 \"cancer patient data sets.csv\" | sort -t ',' -k3 -n >> sorted_cancer_data.csv\n"
   ]
  }
 ],
 "metadata": {
  "kernelspec": {
   "display_name": "Python 3 (ipykernel)",
   "language": "python",
   "name": "python3"
  },
  "language_info": {
   "codemirror_mode": {
    "name": "ipython",
    "version": 3
   },
   "file_extension": ".py",
   "mimetype": "text/x-python",
   "name": "python",
   "nbconvert_exporter": "python",
   "pygments_lexer": "ipython3",
   "version": "3.12.3"
  }
 },
 "nbformat": 4,
 "nbformat_minor": 5
}
